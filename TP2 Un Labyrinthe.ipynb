{
 "cells": [
  {
   "cell_type": "markdown",
   "metadata": {},
   "source": [
    "<h1><font color=\"red\"> TP 2 : \n",
    "Créer un labyrinthe et déplacer le personnage</font></h1>"
   ]
  },
  {
   "cell_type": "markdown",
   "metadata": {
    "collapsed": true
   },
   "source": [
    "**Objectif :** Créer un labyrinthe multi-niveau et déplacer un personnage dans ce labyrinthe..\n"
   ]
  },
  {
   "cell_type": "markdown",
   "metadata": {},
   "source": [
    "![Image du Labyrinthe](TP2_Presentation.png \"Un Labyrinthe\")\n",
    "Le labyrinthe consiste en une grille de **taille 10x8** dont les murs sont constitués de blocs carrés de **taille 72** tels que celui ci-dessous ( réalisé à l'aide du site [Piskel](https://www.piskelapp.com/ \"Un super site pour les sprites\")).\n",
    "![Bloc Mur](Mur_SW.png \"Bloc Mur\")\n",
    "Cette grille est donc en fait un **tableau de 8 lignes et de 10 colonnes**, où chaque cellule est un carré de 72 pixels, qui peut être vu ainsi :\n",
    "![Grille Labyrinthe](TP2_Grille.png \"Grille du Labyrinthe\")"
   ]
  },
  {
   "cell_type": "markdown",
   "metadata": {},
   "source": [
    "<h2><font color=\"red\"> Les tableaux en Python</font></h2>\n",
    "\n"
   ]
  },
  {
   "cell_type": "markdown",
   "metadata": {},
   "source": [
    "La structure de donnée qui va être primordiale à utiliser en Python est celle du tableau, plus précisemment d'une **liste de listes**.\n"
   ]
  },
  {
   "cell_type": "markdown",
   "metadata": {},
   "source": [
    "Commençons d'abord par comprendre ce qu'est une liste en Python.\n",
    "\n",
    "<h4><font color=\"red\">Listes à une dimension</font></h4>\n",
    "\n",
    "Une liste est constituée d'une série d'objets, séparés par des **virgules**, et encadrée par des **crochets**.\n",
    "On peut aussi créer une liste vide simplement par `[]`."
   ]
  },
  {
   "cell_type": "code",
   "execution_count": null,
   "metadata": {
    "collapsed": true
   },
   "outputs": [],
   "source": [
    "a=[5,6,'toto',3.4,True]"
   ]
  },
  {
   "cell_type": "markdown",
   "metadata": {},
   "source": [
    "Nous venons de créer une liste dont la référence est la variable `a`. Cette liste contient 5 éléments qui comme vous le constatez sont des nombres entiers, une chaine de caractère, un nombre décimal et une *valeur booléenne* ( `True` ou `False`).\n",
    "Chacun des éléments de cette liste est repéré par son **indice**, c'est à dire le numéro de sa position, **en partant de 0** ! On peut accéder à un élément particulier de la liste de la manière suivante : "
   ]
  },
  {
   "cell_type": "code",
   "execution_count": null,
   "metadata": {},
   "outputs": [],
   "source": [
    "a[2]"
   ]
  },
  {
   "cell_type": "markdown",
   "metadata": {},
   "source": [
    "Ici on atteint bien le troisième élément, puisque l'objet `5` est repéré par l'**indice** `0`, l'objet `6` par l'indice `1`, ...\n",
    "On peut connaître la longueur d'une liste à l'aide de la fonction `len()`."
   ]
  },
  {
   "cell_type": "code",
   "execution_count": null,
   "metadata": {},
   "outputs": [],
   "source": [
    "len(a)"
   ]
  },
  {
   "cell_type": "markdown",
   "metadata": {},
   "source": [
    "<h4><font color=\"red\">Propriétés des listes</font></h4>\n",
    "Voyons maintenant quelques propriétés spécifiques des listes :\n",
    "* Les listes sont **mutables**, c'est-à-dire qu'on peut changer un objet de la liste simplement :"
   ]
  },
  {
   "cell_type": "code",
   "execution_count": null,
   "metadata": {},
   "outputs": [],
   "source": [
    "a[1]='On Change'\n",
    "print(a)"
   ]
  },
  {
   "cell_type": "markdown",
   "metadata": {},
   "source": [
    "L'objet **d'indice 1**, auparavant `6` a bien été remplacé par la chaine de caractère `'On Change'`."
   ]
  },
  {
   "cell_type": "markdown",
   "metadata": {},
   "source": [
    "* Les listes supportent le **test d'appartenance** `in` :"
   ]
  },
  {
   "cell_type": "code",
   "execution_count": null,
   "metadata": {},
   "outputs": [],
   "source": [
    "print('toto' in a)\n",
    "print(6 in a)"
   ]
  },
  {
   "cell_type": "markdown",
   "metadata": {},
   "source": [
    "Cette commande peut aussi être complétée par le test `not in`"
   ]
  },
  {
   "cell_type": "code",
   "execution_count": null,
   "metadata": {},
   "outputs": [],
   "source": [
    "print(6 not in a)"
   ]
  },
  {
   "cell_type": "markdown",
   "metadata": {},
   "source": [
    "* En conséquence, les listes sont des **itérables**, on peut les parcourir avec une boucle `for` :"
   ]
  },
  {
   "cell_type": "code",
   "execution_count": null,
   "metadata": {},
   "outputs": [],
   "source": [
    "for truc in a :\n",
    "    print(truc)"
   ]
  },
  {
   "cell_type": "markdown",
   "metadata": {},
   "source": [
    "Par ailleurs, on peut mixer cette boucle avec la fonction `enumerate()`, ce qui nous permet de récupérer à la fois l'objet de la liste **et son indice** :"
   ]
  },
  {
   "cell_type": "code",
   "execution_count": null,
   "metadata": {},
   "outputs": [],
   "source": [
    "for indice,truc in enumerate(a):\n",
    "    print(\"L'objet {} a pour indice {}.\".format(truc,indice))"
   ]
  },
  {
   "cell_type": "markdown",
   "metadata": {},
   "source": [
    "<h4><font color=\"red\">Méthodes des listes</font></h4>\n",
    "\n",
    "Les listes possèdent un grand nombre de méthodes, que vous pouvez trouver dans la [documentation Python](https://docs.python.org/fr/3/library/stdtypes.html?highlight=list). Nous nous contenterons de quelques unes de ces méthodes."
   ]
  },
  {
   "cell_type": "markdown",
   "metadata": {},
   "source": [
    "* **Méthode `clear()`** : supprime tous les éléments de la liste"
   ]
  },
  {
   "cell_type": "code",
   "execution_count": null,
   "metadata": {},
   "outputs": [],
   "source": [
    "a.clear()\n",
    "print(a)"
   ]
  },
  {
   "cell_type": "markdown",
   "metadata": {},
   "source": [
    "* **Méthode `append()`** : pour ajouter un élément à la fin d'une liste"
   ]
  },
  {
   "cell_type": "code",
   "execution_count": null,
   "metadata": {},
   "outputs": [],
   "source": [
    "for lettre in 'abcdEFgHij' :\n",
    "    a.append(lettre)\n",
    "print(a)"
   ]
  },
  {
   "cell_type": "markdown",
   "metadata": {},
   "source": [
    "* **Méthode `pop()`** : récupère l'élément d'indice donné en paramètre  **et le supprime de la liste**"
   ]
  },
  {
   "cell_type": "code",
   "execution_count": null,
   "metadata": {},
   "outputs": [],
   "source": [
    "recup=a.pop(3)\n",
    "print(\"élément supprimé :{}\".format(recup))\n",
    "print(\"Nouvelle liste :{}\".format(a))"
   ]
  },
  {
   "cell_type": "markdown",
   "metadata": {},
   "source": [
    "* **Méthode `remove() `** : supprime l'élément donné en paramètre"
   ]
  },
  {
   "cell_type": "code",
   "execution_count": null,
   "metadata": {},
   "outputs": [],
   "source": [
    "a.remove('g')\n",
    "print(a)"
   ]
  },
  {
   "cell_type": "markdown",
   "metadata": {},
   "source": [
    "<h4><font color='blue'>Exercice</font></h4>\n",
    "En vous aidant de toutes les cellules ci-dessus, vous devez créer une liste `a` à partir de la chaine de caractère ci-dessous, et en supprimer toutes les voyelles présentes."
   ]
  },
  {
   "cell_type": "code",
   "execution_count": null,
   "metadata": {},
   "outputs": [],
   "source": [
    "import TP2_01\n",
    "def TP2_01_exo1() :\n",
    "    texte=\"abcdefghijklmnopqrstuvwxyz\"\n",
    "    a=[]\n",
    "    \n",
    "    #Votre code ici Attention à l'indentation\n",
    "    \n",
    "    return a"
   ]
  },
  {
   "cell_type": "markdown",
   "metadata": {},
   "source": [
    "Vérifiez votre code en exécutant le code ci-dessous :"
   ]
  },
  {
   "cell_type": "code",
   "execution_count": null,
   "metadata": {},
   "outputs": [],
   "source": [
    "TP2_01.verif_exo1(TP2_01_exo1)\n"
   ]
  },
  {
   "cell_type": "markdown",
   "metadata": {},
   "source": [
    "<h4><font color='blue'>Exercice</font></h4>\n",
    "Deux listes `a` et `b` sont données. Vous devrez grace à une boucle `for` ajouter chaque élément de la liste `b` à la liste `a`."
   ]
  },
  {
   "cell_type": "code",
   "execution_count": null,
   "metadata": {},
   "outputs": [],
   "source": [
    "def TP2_01_exo2() :\n",
    "    a=[i for i in range(20)]##Vous n'avez pas à comprendre les constructions de ces deux listes\n",
    "    b=[i for i in range(100,120)]\n",
    "    print(a)\n",
    "    print(b)\n",
    "\n",
    "    #Votre code ici\n",
    "\n",
    "    return a"
   ]
  },
  {
   "cell_type": "markdown",
   "metadata": {},
   "source": [
    "Vérifiez votre code en exécutant le code ci-dessous :"
   ]
  },
  {
   "cell_type": "code",
   "execution_count": null,
   "metadata": {},
   "outputs": [],
   "source": [
    "TP2_01.verif_exo2(TP2_01_exo2) "
   ]
  },
  {
   "cell_type": "markdown",
   "metadata": {},
   "source": [
    "<h4><font color='blue'>Exercice</font></h4>\n",
    "Une liste `liste` est créée aléatoirement, et contient 200 nombres de 1 à 100. Il faut extraire tous les nombres supérieurs ou égaux à 20 de cette liste."
   ]
  },
  {
   "cell_type": "code",
   "execution_count": null,
   "metadata": {
    "collapsed": true
   },
   "outputs": [],
   "source": [
    "from random import randint\n",
    "liste = [randint(1,100) for a in range(200)]\n",
    "def TP2_01_exo3(liste) :\n",
    "    #Votre code ici\n",
    "    \n",
    "    return liste"
   ]
  },
  {
   "cell_type": "markdown",
   "metadata": {},
   "source": [
    "Vérifiez votre code en exécutant le code ci-dessous :"
   ]
  },
  {
   "cell_type": "code",
   "execution_count": null,
   "metadata": {},
   "outputs": [],
   "source": [
    "TP2_01.verif_exo3(TP2_01_exo3,liste) "
   ]
  }
 ],
 "metadata": {
  "kernelspec": {
   "display_name": "Python 3",
   "language": "python",
   "name": "python3"
  },
  "language_info": {
   "codemirror_mode": {
    "name": "ipython",
    "version": 3
   },
   "file_extension": ".py",
   "mimetype": "text/x-python",
   "name": "python",
   "nbconvert_exporter": "python",
   "pygments_lexer": "ipython3",
   "version": "3.5.3"
  }
 },
 "nbformat": 4,
 "nbformat_minor": 2
}
