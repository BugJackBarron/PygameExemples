{
 "cells": [
  {
   "cell_type": "markdown",
   "metadata": {
    "slideshow": {
     "slide_type": "slide"
    }
   },
   "source": [
    "<h1><font color=\"red\"> TP 1 : \n",
    "Créer une fenêtre graphique avec pygame</font></h1>\n",
    "\n",
    "*Ceci est un notebook IPython. Il contient plusieurs cellules contenant du code Python. Pour exécuter une cellule vous devez appuyer sur la combinaison `CTRL+Entree`. A gauche d'une cellule non exécutée se trouve un marqueur `[ ]`, où rien n'est présent entre les crochets.Une fois exécutée, le marqueur à côté de la cellule deviendra `[n]` où `n` est un nombre entier.*\n",
    "\n",
    "**Vous devrez, en parallèle de ce Notebook, ouvrir un fichier Python, dans lequel vous taperez et améliorerez le code au fur et à mesure. Pour ce faire, vous pouvez utiliser:**\n",
    "1. IDLE, l'éditeur par défaut de Python ;\n",
    "2. EduPython\n",
    "3. Spyder, l'éditeur qui accompagne les Jupyter Notebook\n",
    "\n",
    "*Une bonne partie de ces tutoriels sont largement inspirés du [MOOC OpenClassroom sur Pygame](https://openclassrooms.com/courses/interface-graphique-pygame-pour-python).*\n",
    "    "
   ]
  },
  {
   "cell_type": "markdown",
   "metadata": {
    "slideshow": {
     "slide_type": "slide"
    }
   },
   "source": [
    "Commençons par charger le module `Pygame`, qui est un module spécifique de Python3 permettant de gérer des fenêtres graphiques, du son, des **sprites** ( des lutins dans Scratch ! ). ce module doit être chargé dans la mémoire de l'ordinateur afin d'être utilisé !"
   ]
  },
  {
   "cell_type": "code",
   "execution_count": null,
   "metadata": {
    "collapsed": true
   },
   "outputs": [],
   "source": [
    "try :\n",
    "    import pygame\n",
    "    from pygame.locals import * #Ici on charge quelques constantes spécifiques\n",
    "    print(\"Module chargé !\")\n",
    "except :\n",
    "    print(\"Module non trouvé !\")"
   ]
  },
  {
   "cell_type": "markdown",
   "metadata": {},
   "source": [
    "Une fois effectué, le module est chargé, inutile de recommencer à valider... En cas de véritable problème vous pouvez relancer la totalité du notebook par le menu `Kernel>Restart&Clear Output`. Il faudra alors relancer complètement chaque cellule."
   ]
  },
  {
   "cell_type": "markdown",
   "metadata": {},
   "source": [
    "<h2><font color=\"red\"> Ouvrir une fenetre et régler ses dimensions</font></h2>\n",
    "\n",
    "Commencons par ouvrir une fenetre de 640 pixels de largeur et de 480 pixels de hauteur\n"
   ]
  },
  {
   "cell_type": "code",
   "execution_count": null,
   "metadata": {
    "collapsed": true
   },
   "outputs": [],
   "source": [
    "#Initialisation de Pygame\n",
    "pygame.init() \n",
    "#Création de deux variables contenant les dimensions :\n",
    "Largeur, Hauteur = 640, 480\n",
    "#fenetre est une variable qui contient l'affichage ( display)\n",
    "\n",
    "fenetre = pygame.display.set_mode((Largeur, Hauteur))\n",
    "#On quitte Pygame ( Attention ! Absolument nécessaire sous windows ! )\n",
    "pygame.quit()"
   ]
  },
  {
   "cell_type": "markdown",
   "metadata": {},
   "source": [
    "Bon ceci n'est pas très efficace, puisque la fenêtre s'ouvre, puis se ferme immédiatement après.\n",
    "\n",
    "Nous allons donc devoir créer un mécanisme qui nous permettra de maintenir la fenetre ouverte **jusqu'au clic sur la croix de fermeture**.\n",
    "\n",
    "Pour cela nous allons utiliser une boucle **Tant Que** grâce à l'instruction **while**, cette boucle étant controllée par une variable que nous nommerons *continuer*.\n",
    "Dans cette boucle, nous allons utiliser le **gestionnaire d'évènements** de pygame, afin de repérer le moment ou l'utilisateur cliquera sur cette croix, et de déclencher à ce moment la sortie de la boucle **Tant que** en changeant la valeur de *continuer*.\n",
    "Le **gestionnaire d'événement** est un mécanisme propre à Pygame, compliqué à comprendre mais simple à utiliser. Sachez seulement qu'il regarde en permanence l'état de l'ordinateur pour savoir si des **événements** se sont produits ( souris bougée, touche appuyée ou relachée, clique gauche ou droit sur la souris, réception d'un fichier particulier via internet, etc...). Nous allons donc à chaque tour de boucle, soit environ toute les millisecondes, regarder la liste des événements qui se sont produits et voir si l'événement `QUIT` s'est produit. Auquel cas nous sortirons de la boucle."
   ]
  },
  {
   "cell_type": "code",
   "execution_count": null,
   "metadata": {
    "collapsed": true
   },
   "outputs": [],
   "source": [
    "#Initialisation de Pygame\n",
    "pygame.init() \n",
    "#Création de deux variables contenant les dimensions :\n",
    "Largeur, Hauteur = 640, 480\n",
    "#fenetre est une variable qui contient l'affichage ( display)\n",
    "fenetre = pygame.display.set_mode((Largeur, Hauteur))\n",
    "#Création de la variable continuer\n",
    "continuer =1\n",
    "\n",
    "#Boucle Tant que :\n",
    "while continuer ==1 : #tant que continuer est égal à 1, on recommence la boucle\n",
    "    for evenement in pygame.event.get() : #Pour chaque evenement\n",
    "        if evenement.type == QUIT :#Si c'est QUIT\n",
    "            continuer=0#Alors on change la valeur de continuer, et la boucle s'arrête.\n",
    "\n",
    "#On quitte Pygame ( Attention ! Absolument nécessaire sous windows ! )\n",
    "pygame.quit()"
   ]
  },
  {
   "cell_type": "markdown",
   "metadata": {},
   "source": [
    "<h2><font color=\"red\"> Coller dans cette fenetre une image de fond</font></h2>\n",
    "\n",
    "Nous allons charger une image grâce à la **méthode** `load()` du sous-module `image` de pygame. Cette image sera chargée dans une variable `fond`, et convertie au format Pygame grâce à la **méthode** `convert()`.\n",
    "\n",
    "Le principe d'affichage avec Pygame est à connaître pour bien afficher ses images : `fenetre` est une surface vide, sur laquelle on va **empiler** les images une à une.\n",
    "Le fond doit donc être empilé **en premier** sur la surface vide de la fenêtre, et ce grâce à la méthode `blit()`.\n",
    "\n",
    "Regardons comment fonctionne la méthode `blit()`. Celle-ci prend deux **arguments** :\n",
    "1. la variable contenant l'image ;\n",
    "2. un **tuple** ( c'est-à-dire une liste de valeur contenues entre parenthèses et séparées par une virgule ) contenant l'abscisse et l'ordonnée du **coin supérieur gauche** de l'image à coller.\n",
    "\n",
    "![Images de placements](expl_surface.png)\n",
    "\n",
    "Dans notre cas, nous allons charger l'image `fond_ecran.jpg` située dans le même répertoire que ce notebook ( sinon il aurait fallu donner le **chemin relatif ou absolu** vers le fichier. Bien entendu, cette image devant occuper toiute la fenetre, nous allons la coller en `(0 , 0)` ( en haut à gauche ! ).\n",
    "\n",
    "Enfin il faudra dire à pygame de replacer ce fond à chaque tour de la boucle **while**, sinon celui-ci sera effacé !"
   ]
  },
  {
   "cell_type": "code",
   "execution_count": null,
   "metadata": {
    "collapsed": true
   },
   "outputs": [],
   "source": [
    "#Initialisation de Pygame\n",
    "pygame.init() \n",
    "#Création de deux variables contenant les dimensions :\n",
    "Largeur, Hauteur = 640, 480\n",
    "#fenetre est une variable qui contient l'affichage ( display)\n",
    "fenetre = pygame.display.set_mode((Largeur, Hauteur))\n",
    "#Création de la variable continuer\n",
    "continuer =1\n",
    "\n",
    "#création de la variable fond\n",
    "\n",
    "fond=pygame.image.load(\"fond_ecran.jpg\").convert()\n",
    "\n",
    "#Placement du fond sur la fenetre\n",
    "fenetre.blit(fond,(0,0))\n",
    "\n",
    "\n",
    "#Boucle Tant que :\n",
    "while continuer ==1 : #tant que continuer est égal à 1, on recommence la boucle\n",
    "    for evenement in pygame.event.get() : #Pour chaque evenement\n",
    "        if evenement.type == QUIT :#Si c'est QUIT\n",
    "            continuer=0#Alors on change la valeur de continuer, et la boucle s'arrête.\n",
    "            \n",
    "    pygame.display.flip() #rafraichissement de l'écran\n",
    "\n",
    "#On quitte Pygame ( Attention ! Absolument nécessaire sous windows ! )\n",
    "pygame.quit()"
   ]
  },
  {
   "cell_type": "markdown",
   "metadata": {},
   "source": [
    "<h2><font color=\"red\"> Ajouter un personnage et le déplacer avec les flèches</font></h2>\n",
    "\n",
    "Le personnage à ajouter sera représenté par l'image `Faucon.png`.\n",
    "\n",
    "Première remarque, j'ai choisi une image au format `png` afin de bénéficier de la **transparence ( canal alpha )**, c'est à dire au fait que le fond ( blanc) de l'image n'apparaisse pas autour de celle-ci. Nous utiliserons alors la méthode `convert_alpha()` plutôt que simplement `convert()`.\n",
    "\n",
    "Nous allons donc procéder au départ exactement comme pour le fond :\n",
    "1. Charger l'image dans une variable personnage.\n",
    "2. La \"bliter\" sur l'écran **après le fond** ( sinon le fond la recouvrira ), le coin supérieur gauche en (200 , 300).\n"
   ]
  },
  {
   "cell_type": "code",
   "execution_count": null,
   "metadata": {
    "collapsed": true
   },
   "outputs": [],
   "source": [
    "#Initialisation de Pygame\n",
    "pygame.init() \n",
    "#Création de deux variables contenant les dimensions :\n",
    "Largeur, Hauteur = 640, 480\n",
    "#fenetre est une variable qui contient l'affichage ( display)\n",
    "fenetre = pygame.display.set_mode((Largeur, Hauteur))\n",
    "#Création de la variable continuer\n",
    "continuer =1\n",
    "\n",
    "#création de la variable fond\n",
    "\n",
    "fond=pygame.image.load(\"fond_ecran.jpg\").convert()\n",
    "\n",
    "#Creation de la variable personnage\n",
    "\n",
    "personnage=pygame.image.load(\"faucon.png\").convert_alpha()\n",
    "\n",
    "#Placement du fond sur la fenetre\n",
    "fenetre.blit(fond,(0,0))\n",
    "fenetre.blit(personnage,(200, 300))\n",
    "\n",
    "\n",
    "#Boucle Tant que :\n",
    "while continuer ==1 : #tant que continuer est égal à 1, on recommence la boucle\n",
    "    for evenement in pygame.event.get() : #Pour chaque evenement\n",
    "        if evenement.type == QUIT :#Si c'est QUIT\n",
    "            continuer=0#Alors on change la valeur de continuer, et la boucle s'arrête.\n",
    "            \n",
    "    pygame.display.flip() #rafraichissement de l'écran\n",
    "\n",
    "#On quitte Pygame ( Attention ! Absolument nécessaire sous windows ! )\n",
    "pygame.quit()"
   ]
  },
  {
   "cell_type": "markdown",
   "metadata": {},
   "source": [
    "Pour gérer le déplacement du personnage, nous allons utiliser, au sein du **gestionnaire d'évènement**, la notion de **dictionnaire**.\n",
    "\n",
    "En Python, un dictionnaire est un **ensemble de couples clé/valeur exprimé entre accolades**. Par exemple on pourrait prendre la notation suivante :\n",
    "\n",
    "` d={'Maths':7 , 'Physique':6 , 'SVT':6 , 'ISN' : 2 , 'LV1' : 3}`\n",
    "\n",
    "Ici on a créé un dictionnaire stocké dans la variable `d` contenant des couples dont les **clés** sont les noms de matières et les **valeurs** sont les coefficients au bac S ( il manque bien sûr des matières ).\n",
    "En utilisant l'instruction `d['SVT']`, on va chercher la **valeur** du dictionnaire `d` correspondant à la **clé** `'SVT'`.\n",
    "\n",
    "Pygame regarde en permanence l'état des touches du clavier, et stocke l'intégralité dans un dictionnaire. On obtient cee dictionnaire grâce à l'instruction  `pygame.key.get_pressed()`.\n",
    "Ainsi `dic_touche=pygame.key.get_pressed()` créé une variable `dic_touche` contenant le dictionnaire des touches du clavier, et `dic_touche[K_DOWN]` renverra une valeur `True` si la **flèche bas** est pressée, ou une valeur `False` sinon.\n",
    "Les touches pouvant être appelées sont de la forme `K_UP, K_LEFT, K_a, K_8, K_F2, ...` ( voir [ici](https://openclassrooms.com/courses/interface-graphique-pygame-pour-python/gestion-des-evenements-1) pour plus de détails). Les variables de type `K_***` sont obtenues grâce à l'import `from pygame.locals import *`.\n"
   ]
  },
  {
   "cell_type": "code",
   "execution_count": null,
   "metadata": {
    "collapsed": true
   },
   "outputs": [],
   "source": [
    "#Initialisation de Pygame\n",
    "pygame.init() \n",
    "#Création de deux variables contenant les dimensions :\n",
    "Largeur, Hauteur = 640, 480\n",
    "#fenetre est une variable qui contient l'affichage ( display)\n",
    "fenetre = pygame.display.set_mode((Largeur, Hauteur))\n",
    "#Création de la variable continuer\n",
    "continuer =1\n",
    "\n",
    "#création de la variable fond\n",
    "\n",
    "fond=pygame.image.load(\"fond_ecran.jpg\").convert()\n",
    "\n",
    "#Creation de la variable personnage\n",
    "\n",
    "personnage=pygame.image.load(\"faucon.png\").convert_alpha()\n",
    "\n",
    "#Placement du fond sur la fenetre\n",
    "fenetre.blit(fond,(0,0))\n",
    "fenetre.blit(personnage,(200, 300))\n",
    "position_personnage=personnage.get_rect()\n",
    "\n",
    "\n",
    "#Boucle Tant que :\n",
    "while continuer ==1 : #tant que continuer est égal à 1, on recommence la boucle\n",
    "    for evenement in pygame.event.get() : #Pour chaque evenement\n",
    "        if evenement.type == QUIT :#Si c'est QUIT\n",
    "            continuer=0#Alors on change la valeur de continuer, et la boucle s'arrête.\n",
    "    dic_touche=pygame.key.get_pressed()\n",
    "    \n",
    "    if dic_touche[K_DOWN] :\n",
    "        print('Flèche bas')\n",
    "    pygame.display.flip() #rafraichissement de l'écran\n",
    "\n",
    "#On quitte Pygame ( Attention ! Absolument nécessaire sous windows ! )\n",
    "pygame.quit()"
   ]
  },
  {
   "cell_type": "markdown",
   "metadata": {},
   "source": [
    "Vous remarquerez qure l'appui sur la flèche haut, même rapide pour nous humains, est traité un grand nombre de fois par la boucle **while**. Nous mettrons donc un timer grâce à l'instruction `wait(10)` qui attendra 10 millisecondes à la fin de chaque boucle.\n",
    "\n",
    "Passons maintenant au déplacement.\n",
    "\n",
    "Pour cela nous utiliserons un nouvel objet, l'objet `Rect`, qui permet de manipuler des surfaces rectangulaires. Comme toutes nos images sont rectangles, il facilitera leur déplacement et leur manipulation !\n",
    "\n",
    "`Rect` stocke en fait les positions d'une surface. Pour créer un `Rect`, nous utilisons la méthode de Surface `get_rect()`.\n",
    "Pour obtenir le Rect `position_personnage` à partir de la variable `personnage` :\n",
    "\n",
    "`position_personnage = personnage.get_rect()`\n",
    "\n",
    "`position_personnage` est un tuple contenant en première valeur l'abscisse et en deuxième valeur l'ordonnée du **coin supérieur gauche** de l'image.\n",
    "On accède à chacune de ces valeurs par :\n",
    "1. `position_personnage[0]` pour l'abscisse ;\n",
    "2. `position_personnage[1]` pour l'ordonnée.\n",
    "\n",
    "\n",
    "Les valeurs par défauts pour l'abscisse et l'ordonnée sont 0, donc si utilisez le `Rect` de base pour établir la position, le personnage sera dans l'angle en haut à gauche :\n",
    "\n",
    "`fenetre.blit(personnage, position_personnage)`\n",
    "\n",
    "\n",
    "Nous possédons maintenant une image `personnage` dont les coordonnées sont gérées par le `Rect` `position_personnage`.\n",
    "\n",
    "Nous voulons maintenant que quand on appuie sur la flèche du bas, le personnage descend de 3 pixels.\n",
    "\n",
    "Pour déplacer un `Rect`, nous utilisons ce code : `nom_du_rect.move(déplacement_x, déplacement_y)`, où `nom_du_rect` est remplacé par le nom de la variable contenant l'objet `Rect` et `deplacement_x` et `deplacement_y` sont soit des valeurs entières, soit des variables contenant des valeurs entières.\n",
    "\n",
    "Ainsi nous allons suivre cette méthode :\n",
    "1. On regarde si la touche K_DOWN est appuyée.\n",
    "2. dans ce cas, on modifie la position du `Rect position_personnage`.\n",
    "3. Re-collage du fond pour recouvrir la fenêtre et repartir à zéro.\n",
    "4. Collage du personnage à sa nouvelle position.\n",
    "5. Rafraîchissement de l'écran.\n"
   ]
  },
  {
   "cell_type": "code",
   "execution_count": null,
   "metadata": {
    "collapsed": true
   },
   "outputs": [],
   "source": [
    "#### Initialisation de Pygame\n",
    "pygame.init() \n",
    "#Création de deux variables contenant les dimensions :\n",
    "Largeur, Hauteur = 640, 480\n",
    "#fenetre est une variable qui contient l'affichage ( display)\n",
    "fenetre = pygame.display.set_mode((Largeur, Hauteur))\n",
    "#Création de la variable continuer\n",
    "continuer =1\n",
    "\n",
    "#création de la variable fond\n",
    "\n",
    "fond=pygame.image.load(\"fond_ecran.jpg\").convert()\n",
    "\n",
    "#Creation de la variable personnage\n",
    "\n",
    "personnage=pygame.image.load(\"faucon.png\").convert_alpha()\n",
    "\n",
    "#Placement du fond sur la fenetre\n",
    "fenetre.blit(fond,(0,0))\n",
    "#Creation du Rect\n",
    "position_personnage=personnage.get_rect()\n",
    "\n",
    "\n",
    "#Boucle Tant que :\n",
    "while continuer ==1 : #tant que continuer est égal à 1, on recommence la boucle\n",
    "    for evenement in pygame.event.get() : #Pour chaque evenement\n",
    "        if evenement.type == QUIT :#Si c'est QUIT\n",
    "            continuer=0#Alors on change la valeur de continuer, et la boucle s'arrête.\n",
    "    dic_touche=pygame.key.get_pressed()\n",
    "    if dic_touche[K_DOWN] :\n",
    "        position_personnage=position_personnage.move(0,3)#On met à jour la nouvelle position\n",
    "    fenetre.blit(fond,(0,0))#On recolle le fond\n",
    "    fenetre.blit(personnage,position_personnage)#on recolle le personnage\n",
    "    pygame.display.flip() #rafraichissement de l'écran\n",
    "    pygame.time.wait(10)#pause de 10 millisecondes, histoire de voir ce qui se passe.\n",
    "\n",
    "#On quitte Pygame ( Attention ! Absolument nécessaire sous windows ! )\n",
    "pygame.quit()"
   ]
  },
  {
   "cell_type": "markdown",
   "metadata": {},
   "source": [
    "Enfin, nous constatons un dernier problème : le Faucon sort de l'écran. Nous aimerions bloquer le mouvement si le `Rect` touche le bord.\n",
    "\n",
    "heureusement, un objet `Rect` possède plusieurs **attributs**, dont en particulier `top , bottom, left et right` qui donne la position de chacun des bords du `Rect`.\n",
    "Il suffira donc de regarder si `position_personnage.bottom` est inférieur à la hauteur de la fenetre pour autoriser le déplacement."
   ]
  },
  {
   "cell_type": "code",
   "execution_count": null,
   "metadata": {
    "collapsed": true
   },
   "outputs": [],
   "source": [
    "#### Initialisation de Pygame\n",
    "pygame.init() \n",
    "#Création de deux variables contenant les dimensions :\n",
    "Largeur, Hauteur = 640, 480\n",
    "#fenetre est une variable qui contient l'affichage ( display)\n",
    "fenetre = pygame.display.set_mode((Largeur, Hauteur))\n",
    "#Création de la variable continuer\n",
    "continuer =1\n",
    "\n",
    "#création de la variable fond\n",
    "\n",
    "fond=pygame.image.load(\"fond_ecran.jpg\").convert()\n",
    "\n",
    "#Creation de la variable personnage\n",
    "\n",
    "personnage=pygame.image.load(\"faucon.png\").convert_alpha()\n",
    "\n",
    "#Placement du fond sur la fenetre\n",
    "fenetre.blit(fond,(0,0))\n",
    "#Creation du Rect\n",
    "position_personnage=personnage.get_rect()\n",
    "\n",
    "\n",
    "#Boucle Tant que :\n",
    "while continuer ==1 : #tant que continuer est égal à 1, on recommence la boucle\n",
    "    for evenement in pygame.event.get() : #Pour chaque evenement\n",
    "        if evenement.type == QUIT :#Si c'est QUIT\n",
    "            continuer=0#Alors on change la valeur de continuer, et la boucle s'arrête.\n",
    "    dic_touche=pygame.key.get_pressed()\n",
    "    if dic_touche[K_DOWN] :\n",
    "        if position_personnage.bottom<Hauteur :\n",
    "            position_personnage=position_personnage.move(0,3)#On met à jour la nouvelle position\n",
    "    fenetre.blit(fond,(0,0))#On recolle le fond\n",
    "    fenetre.blit(personnage,position_personnage)#on recolle le personnage\n",
    "    pygame.display.flip() #rafraichissement de l'écran\n",
    "    pygame.time.wait(10)#pause de 10 millisecondes, histoire de voir ce qui se passe.\n",
    "\n",
    "#On quitte Pygame ( Attention ! Absolument nécessaire sous windows ! )\n",
    "pygame.quit()"
   ]
  },
  {
   "cell_type": "markdown",
   "metadata": {},
   "source": [
    "<h4><font color=\"Blue\"> A vous de jouer !</font></h4>\n",
    "\n",
    "Vous avez en main toutes les possibilités maintenant pour modifier le code afin :\n",
    "1. que le Faucon soit d'abord au centre de l'écran ;\n",
    "2. que les touches 4 touches directionnelles fonctionnent, sans sortir le Faucon de l'écran.\n",
    "\n",
    "Libre à vous d'améliorer, par exemple en changeant l'orientation du Faucon selon les touches appuyées."
   ]
  }
 ],
 "metadata": {
  "kernelspec": {
   "display_name": "Python 3",
   "language": "python",
   "name": "python3"
  },
  "language_info": {
   "codemirror_mode": {
    "name": "ipython",
    "version": 3
   },
   "file_extension": ".py",
   "mimetype": "text/x-python",
   "name": "python",
   "nbconvert_exporter": "python",
   "pygments_lexer": "ipython3",
   "version": "3.6.2"
  }
 },
 "nbformat": 4,
 "nbformat_minor": 2
}
