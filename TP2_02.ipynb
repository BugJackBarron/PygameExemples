{
 "cells": [
  {
   "cell_type": "markdown",
   "metadata": {},
   "source": [
    "<h2><font color=\"red\">Listes à deux dimensions, ou tableaux !</font></h2>"
   ]
  },
  {
   "cell_type": "markdown",
   "metadata": {},
   "source": [
    "Maintenant que vous savez ( a peu près...) manipuler les listes, il est temps de nous occuper des tableaux.\n",
    "Un tableau, c'est une série de données réparties en lignes et en colonnes.\n",
    "\n",
    "En programmation, quel que soit le langage, on a par convention décidé de repérer une donnée par son **numéro de ligne et son numéro de colonne, dans cet ordre**, et toujours en partant de 0 !\n",
    "Ainsi, dans le tableau suivant :\n",
    "\n",
    "|rouge|vert|bleu|violet|\n",
    "|------|-----|-----|-----|\n",
    "|orange|noir|blanc|jaune|\n",
    "|magenta|marron|cyan|rose|\n",
    "\n",
    "* marron est en position (2,1) ;\n",
    "* violet est en position (0,3) ;\n",
    "* orange est en position (1,0).\n"
   ]
  },
  {
   "cell_type": "markdown",
   "metadata": {},
   "source": [
    "<h4><font color=\"red\">Syntaxe en Python</font></h4>"
   ]
  },
  {
   "cell_type": "markdown",
   "metadata": {},
   "source": [
    "En Python, il n'existe pas de type de tableau prédéfinis. Il faut donc se servir du type `list`, afin de produire ces tableaux.\n",
    "\n",
    "En effet, nous avons vu qu'une liste pouvait contenir **n'importe quel type d'objet**. Il est donc possible alors d'avoir comme objet de liste une liste elle-même.\n",
    "\n",
    "Voyons un peu cela :"
   ]
  },
  {
   "cell_type": "code",
   "execution_count": null,
   "metadata": {},
   "outputs": [],
   "source": [
    "tab=[\n",
    "    ['rouge','vert','bleu','violet'],\n",
    "    ['orange','noir','blanc','jaune'],\n",
    "    ['magenta','marron','cyan','rose'],\n",
    "    \n",
    "]"
   ]
  },
  {
   "cell_type": "markdown",
   "metadata": {},
   "source": [
    "Nous venons de créer un objet tableau, dont la référence est la variable `tab`.\n",
    "\n",
    "Regardons maintenant si nous pouvons atteindre chaque objet comme dans une liste."
   ]
  },
  {
   "cell_type": "code",
   "execution_count": null,
   "metadata": {},
   "outputs": [],
   "source": [
    "tab[2]"
   ]
  },
  {
   "cell_type": "markdown",
   "metadata": {},
   "source": [
    "L'objet représenté par `tab[2]` est donc la dernière ligne du tableau, qui est elle-même une liste...\n",
    "Donc il est possible d'accéder à ses élements par leur indice..."
   ]
  },
  {
   "cell_type": "code",
   "execution_count": null,
   "metadata": {},
   "outputs": [],
   "source": [
    "tab[2][1]"
   ]
  },
  {
   "cell_type": "markdown",
   "metadata": {},
   "source": [
    "Comme prévu, nous obtenons bien l'objet de la ligne 2 et de la colonne 1. Vous pouvez jouer avec les précédents indices pour vérifier et comprendre le fonctionnement du tableau."
   ]
  },
  {
   "cell_type": "markdown",
   "metadata": {},
   "source": [
    "<h4><font color=\"red\">Parcourir un tableau</font></h4>"
   ]
  },
  {
   "cell_type": "markdown",
   "metadata": {},
   "source": [
    "Parcourir une liste a une dimension est aisé avec une boucle `for`...\n",
    "Mais les choses se compliquent quand il s'agit d'une liste à deux dimensions, puisqu'il faut alors **imbriquer deux listes `for`**. \n",
    "\n",
    "La partie qui suit sera un peu technique...\n",
    "\n",
    "\n",
    "Commençons par explorer le code suivant. Nous allons parcourir le tableau de couleurs `tab`, pas à pas.Vous pouvez passer d'une étape à l'autre par l'appui sur la touche entrée."
   ]
  },
  {
   "cell_type": "code",
   "execution_count": null,
   "metadata": {},
   "outputs": [],
   "source": [
    "for i,line in enumerate(tab) : ##i est le numéro de ligne parcouru\n",
    "    for j,item in enumerate(line) :## j est le numéro de colonne parcouru\n",
    "        print(\"Le curseur est en position ( {} ; {} ) pour lire la couleur {}\".format(i,j,tab[i][j]))\n",
    "        input()"
   ]
  },
  {
   "cell_type": "markdown",
   "metadata": {},
   "source": [
    "En fait, **pour chaque ligne**, on parcoure **toutes les colonnes**, puis on change de ligne, comme montré dans la vidéo ci-dessous..."
   ]
  },
  {
   "cell_type": "markdown",
   "metadata": {},
   "source": [
    "<a href=\"http://www.youtube.com/watch?feature=player_embedded&v=XQpUCfzBhOI\n",
    "\" target=\"_blank\"><img src=\"https://i.ytimg.com/vi/XQpUCfzBhOI/sddefault.jpg\" \n",
    "alt=\"Parcourir un tableau\" width=\"240\" height=\"180\" border=\"10\" /></a>\n",
    "\n",
    "\n",
    "\n",
    "\n"
   ]
  },
  {
   "cell_type": "markdown",
   "metadata": {
    "collapsed": true
   },
   "source": [
    "<h4><font color=\"blue\">Exercice</font></h4>\n"
   ]
  },
  {
   "cell_type": "markdown",
   "metadata": {},
   "source": [
    "Dans l'exercice ci-dessous, vous devez parcourir un tableau donné, de dimension 100x100, dont les cellules ne contiennnent que des lettres`m`, sauf pour une position qui contient la lettre `a`, et déterminer le numéro de ligne `numline` et le numéro de colonne `numcolumn` correspondant à cette position."
   ]
  },
  {
   "cell_type": "code",
   "execution_count": null,
   "metadata": {},
   "outputs": [],
   "source": [
    "def exo1(tableau) :#la variable tableau fait référence au tableau sélectionné\n",
    "    numline,numcolumn=100,100\n",
    "    \n",
    "    #votre code ici\n",
    "        \n",
    "    return numline,numcolumn"
   ]
  },
  {
   "cell_type": "markdown",
   "metadata": {},
   "source": [
    "Vous pouvez vérifier votre code en exécutant la cellule ci-dessous :"
   ]
  },
  {
   "cell_type": "code",
   "execution_count": null,
   "metadata": {},
   "outputs": [],
   "source": [
    "import TP2_02\n",
    "TP2_02.verif_exo1(exo1)"
   ]
  },
  {
   "cell_type": "markdown",
   "metadata": {},
   "source": [
    "<h4><font color=\"blue\">Exercice</font></h4>\n"
   ]
  },
  {
   "cell_type": "markdown",
   "metadata": {},
   "source": [
    "Un tableau vous est donné, de dimensions 10x8. La position d'une cellule **intérieure au tableau, c'est -à-dire ayant 8 voisines directes**- étant connue, vous devez donner dans une liste `liste_retour` le contenu de chacune des cellules voisines de la cellule donnée, en commençant par le coin supérieur gauche, puis en suivant ligne par ligne... Donc cette liste contient 8 valeurs..."
   ]
  },
  {
   "cell_type": "code",
   "execution_count": null,
   "metadata": {},
   "outputs": [],
   "source": [
    "def exo2(tableau,i,j): \n",
    "    \"\"\"i et j représentent le numéro de ligne et le numéro de colonne de la cellule sélectionnée\"\"\"\n",
    "    liste_retour=[]\n",
    "    \n",
    "    #votre code ici\n",
    "    \n",
    "    return liste_retour\n",
    "    "
   ]
  },
  {
   "cell_type": "markdown",
   "metadata": {},
   "source": [
    "Vous pouvez vérifier votre code en exécutant la cellule ci-dessous :"
   ]
  },
  {
   "cell_type": "code",
   "execution_count": null,
   "metadata": {},
   "outputs": [],
   "source": [
    "TP2_02.verif_exo2(exo2)"
   ]
  }
 ],
 "metadata": {
  "kernelspec": {
   "display_name": "Python 3",
   "language": "python",
   "name": "python3"
  },
  "language_info": {
   "codemirror_mode": {
    "name": "ipython",
    "version": 3
   },
   "file_extension": ".py",
   "mimetype": "text/x-python",
   "name": "python",
   "nbconvert_exporter": "python",
   "pygments_lexer": "ipython3",
   "version": "3.5.3"
  }
 },
 "nbformat": 4,
 "nbformat_minor": 2
}
